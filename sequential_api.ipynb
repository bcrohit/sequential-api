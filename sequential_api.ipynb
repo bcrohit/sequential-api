{
 "cells": [
  {
   "cell_type": "markdown",
   "id": "43dd0e9b-8422-4454-8e1c-bf34b4f6e2cf",
   "metadata": {},
   "source": [
    "## Implementing MLPs with Keras\n"
   ]
  },
  {
   "cell_type": "markdown",
   "id": "4b31122b-864f-42c1-9dac-80e3b4b76851",
   "metadata": {},
   "source": [
    "### Setting Up Your Environment\n",
    "\n",
    "- Before diving into implementing Multi-Layer Perceptrons (MLPs) with Keras, ensure you've set up your virtual environment.\n",
    "- If you haven't already installed TensorFlow and scikit learn, use the command `pip install -U tensorflow` and `pip install -U scikit-learn` respectively to get them installed.\n",
    "- `-U` or `--upgrade` here instructs pip to install the latest version of the package.\n",
    "- The chosen backend API for TensorFlow is Keras, which also extends support to other deep learning libraries such as PyTorch."
   ]
  },
  {
   "cell_type": "code",
   "execution_count": 1,
   "id": "3524ad94-b040-42b8-a366-b0b60b1872f6",
   "metadata": {},
   "outputs": [
    {
     "name": "stdout",
     "output_type": "stream",
     "text": [
      "2.13.0\n"
     ]
    }
   ],
   "source": [
    "# to check if the package is installed and its version, you can-\n",
    "\n",
    "import tensorflow as tf\n",
    "from tensorflow import keras\n",
    "\n",
    "print(tf.__version__)"
   ]
  },
  {
   "cell_type": "markdown",
   "id": "a0493552-ce82-4766-b3b9-43dcf3732b82",
   "metadata": {},
   "source": [
    "### Choosing the dataset\n",
    "\n",
    "For this blog, we'll use the MNIST dataset, often referred to as the \"hello world\" of machine learning for classification tasks. It consists of 70,000 instances, each having 784 features representing pixel values ranging from 0 to 1. If you reshape these values into a 28x28 array and use Matplotlib's imshow function, you'll see images of handwritten numbers. The goal is to classify each instance into its actual label, which ranges from 0 to 9.\n",
    "\n",
    "- Just like MNIST the Fashion MNIST which is provided by the utility functions of the tensorflow is a similar kind of dataset.\n",
    "- It has the exact same format as MNIST (70,000 grayscale images of 28 × 28 pixels each, with 10 classes, but here the task is to clasify fashion items and not the handwritten digits.\n",
    "- Lets load the dataset using keras. \n",
    "    - It's worth mentioning that the dataset is already split into test and train sets but not validation sets, the same will be implemented below. \n",
    "- This would take significant amount of time depending on your internet connection speed. \n",
    "\n"
   ]
  },
  {
   "cell_type": "code",
   "execution_count": null,
   "id": "e1f9394b-1c30-4329-8024-28c046b19df6",
   "metadata": {},
   "outputs": [],
   "source": [
    "fashion_mnist = keras.datasets.fashion_mnist\n",
    "\n",
    "(x_train_full, y_train_full), (x_test, y_test) = fashion_minst.load_data()"
   ]
  },
  {
   "cell_type": "code",
   "execution_count": 13,
   "id": "d076dbf7-d237-4af5-a2d6-14f2402ed701",
   "metadata": {},
   "outputs": [
    {
     "name": "stdout",
     "output_type": "stream",
     "text": [
      "data loaded\n"
     ]
    }
   ],
   "source": [
    "# once data loaded it would be better if you save to local disk as a dict or an npy, instead of re-downloading every time you restart\n",
    "# here is a code snippet to do that\n",
    "\n",
    "import numpy as np\n",
    "\n",
    "try:\n",
    "    data = np.load(r'data\\fashion_mnist_data.npy', allow_pickle=True).item() \n",
    "    print(\"data loaded\")\n",
    "    \n",
    "except FileNotFoundError:\n",
    "    user = input(\"download fashion mnist data? [y/n]: \")\n",
    "    if user.lower() == 'y':\n",
    "        (x_train, y_train), (x_test, y_test) = keras.datasets.fashion_mnist.load_data()\n",
    "        data = {\n",
    "            'x_train': x_train,\n",
    "            'y_train': y_train,\n",
    "            'x_test': x_test, \n",
    "            'y_test': y_test\n",
    "        }\n",
    "    \n",
    "        np.save('data\\fashion_mnist_data.npy', data)\n",
    "        print(\"data saved\")"
   ]
  },
  {
   "cell_type": "code",
   "execution_count": 4,
   "id": "9762f157-5856-4655-9c06-4dea50cb6e66",
   "metadata": {},
   "outputs": [],
   "source": [
    "# as said above the fashion mnist contains fashion items and here are those\n",
    "\n",
    "class_names = [\"T-shirt/top\", \"Trouser\", \"Pullover\", \"Dress\", \"Coat\",\n",
    "\"Sandal\", \"Shirt\", \"Sneaker\", \"Bag\", \"Ankle boot\"]"
   ]
  },
  {
   "cell_type": "markdown",
   "id": "dd7404dd-d239-45f9-b986-405666d01b2c",
   "metadata": {},
   "source": [
    "### Creating the model using Sequential API\n",
    "\n",
    "##### Here's a breakdown of the model creation using the Sequential API:\n",
    "\n",
    "- Line 1: We create a sequential model, the simplest form of a neural network composed of a single stack of layers.\n",
    "\n",
    "\n",
    "- Line 2: this is the input layer, the role of this layer is to flatten the 2D array to 1D array. Since its the first layer you should specify the input shape, if you are not aware of it API will wait till the data is fitted and the when the training starts it would watch the first batch of the data and then determines the input shape by itself. If its overwhelming, you can also do it this way -\n",
    "\n",
    "        \n",
    "           model.add(keras.layers.Input(shape=[28, 28]))\n",
    "           model.add(keras.layers.Flatten())\n",
    "  \n",
    "  \n",
    "- Line 3: Next we add the dense hidden layer of 300 neurons with an activation function ReLU, each of the dense layers maintails a matrix of its own weights and a vector of bias terms for each neuron.\n",
    "\n",
    "\n",
    "- Line 4: The second dense hidden layer with 100 neurons follows, also utilizing the ReLU activation function.\n",
    "\n",
    "\n",
    "- Line 5: Finally we add a output layer which also happens to be dense with 10 neurons since we have 10 classes meaning one neuron for each. Since its a multi label classfication we use `sofmax` activation function, if it was binary clasification we would have used `sigmoid` activation"
   ]
  },
  {
   "cell_type": "code",
   "execution_count": 5,
   "id": "ee76e6bf-8f17-42e8-b2cb-54c959469954",
   "metadata": {},
   "outputs": [],
   "source": [
    "from keras import Sequential\n",
    "tf.random.set_seed(42)\n",
    "\n",
    "model = keras.Sequential()\n",
    "model.add(keras.layers.Flatten(input_shape=[28, 28]))\n",
    "model.add(keras.layers.Dense(300, activation='relu'))\n",
    "model.add(keras.layers.Dense(100, activation='relu'))\n",
    "model.add(keras.layers.Dense(10, activation='softmax'))"
   ]
  },
  {
   "cell_type": "code",
   "execution_count": 6,
   "id": "f25251d0-c3be-47ae-975a-c7ec986d47b1",
   "metadata": {},
   "outputs": [],
   "source": [
    "# Diffrent approach. The same can also be done this way, its more convineient\n",
    "\n",
    "model = Sequential([\n",
    "    keras.layers.Flatten(input_shape=[28, 28]),\n",
    "    keras.layers.Dense(300, 'relu'),\n",
    "    keras.layers.Dense(100, 'relu'),\n",
    "    keras.layers.Dense(10, 'softmax')\n",
    "])"
   ]
  },
  {
   "cell_type": "markdown",
   "id": "4224b9bf-db8e-4a7f-9761-20911a393a88",
   "metadata": {},
   "source": [
    "### Exploring the model\n",
    "\n",
    "Now model contains a attribute called `summary` which stores information of all the layers and their weights. None here represents batch size sunce we did not explicitly define the batch size, its None for now."
   ]
  },
  {
   "cell_type": "code",
   "execution_count": 8,
   "id": "51ae477b-e748-4651-bcce-05dd03128294",
   "metadata": {},
   "outputs": [
    {
     "name": "stdout",
     "output_type": "stream",
     "text": [
      "Model: \"sequential_4\"\n",
      "_________________________________________________________________\n",
      " Layer (type)                Output Shape              Param #   \n",
      "=================================================================\n",
      " flatten_8 (Flatten)         (None, 784)               0         \n",
      "                                                                 \n",
      " dense_15 (Dense)            (None, 300)               235500    \n",
      "                                                                 \n",
      " dense_16 (Dense)            (None, 100)               30100     \n",
      "                                                                 \n",
      " dense_17 (Dense)            (None, 10)                1010      \n",
      "                                                                 \n",
      "=================================================================\n",
      "Total params: 266610 (1.02 MB)\n",
      "Trainable params: 266610 (1.02 MB)\n",
      "Non-trainable params: 0 (0.00 Byte)\n",
      "_________________________________________________________________\n"
     ]
    }
   ],
   "source": [
    "model.summary()"
   ]
  },
  {
   "cell_type": "markdown",
   "id": "a81ec9c5-cf0a-4a3d-928b-b5a1355846a5",
   "metadata": {},
   "source": [
    "You can easily get a model’s list of layers, to fetch a layer by its index, or you can fetch it by name.\n",
    "And also there are ways to get the models weight matrix and bias vector, there is also a `set_weights` method using which, you can set the weights."
   ]
  },
  {
   "cell_type": "code",
   "execution_count": 12,
   "id": "88014867-2747-467f-8586-0889c5e8df4d",
   "metadata": {},
   "outputs": [
    {
     "name": "stdout",
     "output_type": "stream",
     "text": [
      "(784, 300) (300,)\n"
     ]
    }
   ],
   "source": [
    "# get model list of layers\n",
    "model.layers\n",
    "\n",
    "# access layer by its index \n",
    "hidden1 = model.layers[1]\n",
    "hidden1.name\n",
    "\n",
    "# access layer by its name\n",
    "model.get_layer('dense_15')\n",
    "\n",
    "# access model parameters\n",
    "weights, biases = hidden1.get_weights()\n",
    "print(weights.shape, biases.shape)"
   ]
  },
  {
   "cell_type": "markdown",
   "id": "e58dca11-bc55-4d78-8282-4f74fa161fd3",
   "metadata": {},
   "source": [
    "### Compiling the model\n",
    "\n",
    "Prior to exposing the model to data, it's crucial to compile it. This involves defining the learning rate, loss function, and metrics.\n",
    "\n",
    "\n",
    "We use the `sparse_categorical_crossentropy` since we have only one target class per instance i.e 0 to 9 which is sparse, \n",
    "if instead we had one target probability per class (`eg. [0, 0 , 0, 1, 0, 0, 0, 0, 0]`) which are called `one-hot vectors` we would have used `categorical_crossentropy`.\n",
    "\n",
    "The `optimizer=\"sgd\"` indicates that the model will be trained using Stochastic Gradient Descent. You can set the learning rate using `optimizer=keras.optimizers.SGD(lr=???)`. \n",
    "\n",
    "The lr when `optimizer=\"sgd\"` used defaults to 0.01"
   ]
  },
  {
   "cell_type": "code",
   "execution_count": 38,
   "id": "958ad1df-98ee-43f9-a436-b11070d94eb2",
   "metadata": {},
   "outputs": [],
   "source": [
    "model.compile(\n",
    "    optimizer=keras.optimizers.SGD(learning_rate=0.001),\n",
    "    loss=\"sparse_categorical_crossentropy\",\n",
    "    metrics=['accuracy']\n",
    ")"
   ]
  },
  {
   "cell_type": "markdown",
   "id": "5c574b77-2cf8-4c86-9b0e-bf69d88392ec",
   "metadata": {},
   "source": [
    "### Preparing data\n",
    "\n",
    "Since we've previously downloaded the data and saved it in JSON format, we'll now load it in a similar manner.\n",
    "\n",
    "\n",
    "Although the fashion_mnist dataset was already split into train and test sets, we need to create validation sets now.\n",
    "\n",
    "\n",
    "Validation data is vital for monitoring model performance during training. If the training accuracy surpasses the validation accuracy, it signals overfitting, and vice versa indicates underfitting. \n",
    "\n",
    "We'll allocate 5,000 instances to the validation set.\n"
   ]
  },
  {
   "cell_type": "code",
   "execution_count": 26,
   "id": "d79cc1bf-d09d-4bd5-a546-6407148c641b",
   "metadata": {
    "scrolled": true
   },
   "outputs": [],
   "source": [
    "x_train_full, y_train_full, x_test, yTest = data['x_train'], data['y_train'], data['x_test'], data['y_test']\n",
    "x_train, y_train = x_train_full[:55000], y_train_full[:55000]\n",
    "x_valid, y_valid = x_train_full[55000:], y_train_full[55000:]"
   ]
  },
  {
   "cell_type": "markdown",
   "id": "030ca65a-38da-47c4-b234-e2e73652fe15",
   "metadata": {},
   "source": [
    "### Training and evaluating the model\n",
    "\n",
    "\n",
    "With the model primed for training, invoking the fit method will accomplish the task. Provide the train and validation sets, along with the number of epochs.\n",
    "\n",
    "\n",
    "Keras evaluates loss and metrics on this set at the end of each epoch, offering valuable insights into the model's performance.\n",
    "\n",
    "\n",
    "Here each epoch goes through 1719 batches, since the default batch size is 32. So, if we do the maths we understand that model goes through 1718 batches of size 32 and 1 batch of size 24 which would equal to 55k\n",
    "\n",
    "Upon completing training, it's advisable to save the model for future use. Later you can load using\n",
    "\n",
    "`model = keras.models.load_model(\"models\\mnist_model.keras\")`"
   ]
  },
  {
   "cell_type": "code",
   "execution_count": 27,
   "id": "e09556eb-8460-4191-be41-ec78dc205f05",
   "metadata": {
    "scrolled": true
   },
   "outputs": [
    {
     "name": "stdout",
     "output_type": "stream",
     "text": [
      "Epoch 1/30\n",
      "1719/1719 [==============================] - 13s 6ms/step - loss: 0.2559 - accuracy: 0.9050 - val_loss: 0.4398 - val_accuracy: 0.8592\n",
      "Epoch 2/30\n",
      "1719/1719 [==============================] - 8s 5ms/step - loss: 0.2539 - accuracy: 0.9048 - val_loss: 0.4325 - val_accuracy: 0.8590\n",
      "Epoch 3/30\n",
      "1719/1719 [==============================] - 9s 5ms/step - loss: 0.2502 - accuracy: 0.9065 - val_loss: 0.4178 - val_accuracy: 0.8684\n",
      "Epoch 4/30\n",
      "1719/1719 [==============================] - 9s 6ms/step - loss: 0.2480 - accuracy: 0.9080 - val_loss: 0.4336 - val_accuracy: 0.8624\n",
      "Epoch 5/30\n",
      "1719/1719 [==============================] - 9s 5ms/step - loss: 0.2445 - accuracy: 0.9079 - val_loss: 0.4198 - val_accuracy: 0.8650\n",
      "Epoch 6/30\n",
      "1719/1719 [==============================] - 10s 6ms/step - loss: 0.2421 - accuracy: 0.9100 - val_loss: 0.4419 - val_accuracy: 0.8636\n",
      "Epoch 7/30\n",
      "1719/1719 [==============================] - 10s 6ms/step - loss: 0.2411 - accuracy: 0.9100 - val_loss: 0.4418 - val_accuracy: 0.8590\n",
      "Epoch 8/30\n",
      "1719/1719 [==============================] - 10s 6ms/step - loss: 0.2375 - accuracy: 0.9112 - val_loss: 0.4469 - val_accuracy: 0.8596\n",
      "Epoch 9/30\n",
      "1719/1719 [==============================] - 11s 6ms/step - loss: 0.2359 - accuracy: 0.9123 - val_loss: 0.4383 - val_accuracy: 0.8586\n",
      "Epoch 10/30\n",
      "1719/1719 [==============================] - 11s 7ms/step - loss: 0.2335 - accuracy: 0.9118 - val_loss: 0.4436 - val_accuracy: 0.8602\n",
      "Epoch 11/30\n",
      "1719/1719 [==============================] - 11s 6ms/step - loss: 0.2312 - accuracy: 0.9136 - val_loss: 0.4300 - val_accuracy: 0.8666\n",
      "Epoch 12/30\n",
      "1719/1719 [==============================] - 12s 7ms/step - loss: 0.2287 - accuracy: 0.9141 - val_loss: 0.4327 - val_accuracy: 0.8664\n",
      "Epoch 13/30\n",
      "1719/1719 [==============================] - 11s 6ms/step - loss: 0.2269 - accuracy: 0.9157 - val_loss: 0.4284 - val_accuracy: 0.8664\n",
      "Epoch 14/30\n",
      "1719/1719 [==============================] - 11s 6ms/step - loss: 0.2246 - accuracy: 0.9158 - val_loss: 0.4469 - val_accuracy: 0.8660\n",
      "Epoch 15/30\n",
      "1719/1719 [==============================] - 11s 6ms/step - loss: 0.2216 - accuracy: 0.9169 - val_loss: 0.4442 - val_accuracy: 0.8658\n",
      "Epoch 16/30\n",
      "1719/1719 [==============================] - 11s 6ms/step - loss: 0.2199 - accuracy: 0.9181 - val_loss: 0.4481 - val_accuracy: 0.8682\n",
      "Epoch 17/30\n",
      "1719/1719 [==============================] - 11s 6ms/step - loss: 0.2177 - accuracy: 0.9169 - val_loss: 0.4404 - val_accuracy: 0.8668\n",
      "Epoch 18/30\n",
      "1719/1719 [==============================] - 10s 6ms/step - loss: 0.2153 - accuracy: 0.9195 - val_loss: 0.4338 - val_accuracy: 0.8690\n",
      "Epoch 19/30\n",
      "1719/1719 [==============================] - 11s 6ms/step - loss: 0.2142 - accuracy: 0.9190 - val_loss: 0.4571 - val_accuracy: 0.8566\n",
      "Epoch 20/30\n",
      "1719/1719 [==============================] - 11s 6ms/step - loss: 0.2117 - accuracy: 0.9204 - val_loss: 0.4411 - val_accuracy: 0.8668\n",
      "Epoch 21/30\n",
      "1719/1719 [==============================] - 11s 6ms/step - loss: 0.2110 - accuracy: 0.9212 - val_loss: 0.4476 - val_accuracy: 0.8712\n",
      "Epoch 22/30\n",
      "1719/1719 [==============================] - 11s 7ms/step - loss: 0.2084 - accuracy: 0.9223 - val_loss: 0.4576 - val_accuracy: 0.8654\n",
      "Epoch 23/30\n",
      "1719/1719 [==============================] - 11s 6ms/step - loss: 0.2070 - accuracy: 0.9225 - val_loss: 0.4568 - val_accuracy: 0.8612\n",
      "Epoch 24/30\n",
      "1719/1719 [==============================] - 11s 6ms/step - loss: 0.2055 - accuracy: 0.9222 - val_loss: 0.4604 - val_accuracy: 0.8682\n",
      "Epoch 25/30\n",
      "1719/1719 [==============================] - 11s 6ms/step - loss: 0.2039 - accuracy: 0.9237 - val_loss: 0.4542 - val_accuracy: 0.8674\n",
      "Epoch 26/30\n",
      "1719/1719 [==============================] - 11s 6ms/step - loss: 0.2022 - accuracy: 0.9239 - val_loss: 0.4624 - val_accuracy: 0.8606\n",
      "Epoch 27/30\n",
      "1719/1719 [==============================] - 11s 7ms/step - loss: 0.1993 - accuracy: 0.9249 - val_loss: 0.4756 - val_accuracy: 0.8640\n",
      "Epoch 28/30\n",
      "1719/1719 [==============================] - 11s 6ms/step - loss: 0.1992 - accuracy: 0.9240 - val_loss: 0.4655 - val_accuracy: 0.8688\n",
      "Epoch 29/30\n",
      "1719/1719 [==============================] - 11s 6ms/step - loss: 0.1972 - accuracy: 0.9265 - val_loss: 0.4655 - val_accuracy: 0.8656\n",
      "Epoch 30/30\n",
      "1719/1719 [==============================] - 11s 7ms/step - loss: 0.1958 - accuracy: 0.9270 - val_loss: 0.4765 - val_accuracy: 0.8664\n"
     ]
    }
   ],
   "source": [
    "history = model.fit(x_train, y_train, epochs=30, validation_data=(x_valid, y_valid))\n",
    "model.save('mnist_model.keras')"
   ]
  },
  {
   "cell_type": "markdown",
   "id": "e33e38eb-3a6c-4775-aa1b-b8494be53cea",
   "metadata": {},
   "source": [
    "### Results\n",
    "\n",
    "\n",
    "When dealing with a skewed training set, where certain classes are overrepresented and others underrepresented, consider using the `class_weights` argument when calling the fit method. Keras will manage this aspect. Otherwise, the final results may lack reliability.\n",
    "\n",
    "\n",
    "The fit() method returns a History object encompassing training parameters, epochs, and a dictionary (history.history) containing loss and additional metrics for both training and validation sets. You can convert this dictionary into a Pandas DataFrame and use its plot() method to visualize learning curves."
   ]
  },
  {
   "cell_type": "code",
   "execution_count": 15,
   "id": "bf4b4fde-c370-4c34-b87c-8189b70753ef",
   "metadata": {},
   "outputs": [],
   "source": [
    "import matplotlib.pyplot as plt\n",
    "import pandas as pd\n",
    "import numpy as np"
   ]
  },
  {
   "cell_type": "code",
   "execution_count": 32,
   "id": "c1cf12de-5222-46ca-a0b0-b7893b7c6393",
   "metadata": {},
   "outputs": [
    {
     "data": {
      "text/plain": [
       "<Axes: xlabel='Epochs'>"
      ]
     },
     "execution_count": 32,
     "metadata": {},
     "output_type": "execute_result"
    },
    {
     "data": {
      "image/png": "[encoded data removed]",
      "text/plain": [
       "<Figure size 800x500 with 1 Axes>"
      ]
     },
     "metadata": {},
     "output_type": "display_data"
    }
   ],
   "source": [
    "pd.DataFrame(history.history).plot(figsize=(8, 5), xlim=[0, 29], ylim=[0, 1], xlabel=\"Epochs\", grid=True,\n",
    "    style=['r-', 'r--.', 'b-', 'b-*'])"
   ]
  },
  {
   "cell_type": "code",
   "execution_count": 33,
   "id": "79f3adf3-8d97-4d29-b7f7-d19bbffa1a15",
   "metadata": {},
   "outputs": [
    {
     "name": "stdout",
     "output_type": "stream",
     "text": [
      "313/313 [==============================] - 1s 4ms/step - loss: 0.4943 - accuracy: 0.8682\n"
     ]
    },
    {
     "data": {
      "text/plain": [
       "[0.49430614709854126, 0.8682000041007996]"
      ]
     },
     "execution_count": 33,
     "metadata": {},
     "output_type": "execute_result"
    }
   ],
   "source": [
    "# now you should check how the model performs on unseen data (test data)\n",
    "\n",
    "model.evaluate(x_test, y_test)"
   ]
  },
  {
   "cell_type": "markdown",
   "id": "ee9026a0-8d62-4457-b0a5-e4753d6edecb",
   "metadata": {},
   "source": [
    "### Making Predictions"
   ]
  },
  {
   "cell_type": "code",
   "execution_count": 41,
   "id": "27cc7f0e-0802-41ff-a261-220f2ee140a1",
   "metadata": {},
   "outputs": [
    {
     "name": "stdout",
     "output_type": "stream",
     "text": [
      "1/1 [==============================] - 0s 50ms/step\n",
      "Predictions\n",
      "Class Labels: [9 2 1 1 6]\n",
      "Class Names: ['Ankle boot' 'Pullover' 'Trouser' 'Trouser' 'Shirt']\n"
     ]
    }
   ],
   "source": [
    "# get probabilities for some of the instances\n",
    "x_new = x_test[:5]\n",
    "y_probabilities = model.predict(X_new)\n",
    "y_probabilities.round(2)\n",
    "\n",
    "y_predictions = y_probabilities.argmax(axis=-1)\n",
    "\n",
    "print(\"Predictions\")\n",
    "print(\"Class Labels:\", y_predictions)\n",
    "\n",
    "print(\"Class Names:\", np.array(class_names)[y_predictions])"
   ]
  },
  {
   "cell_type": "code",
   "execution_count": 38,
   "id": "7e8ffff8-0c7a-4c7b-909d-ce39fa5627ba",
   "metadata": {
    "scrolled": true
   },
   "outputs": [
    {
     "data": {
      "image/png": "[encoded data removed]",
      "text/plain": [
       "<Figure size 640x480 with 1 Axes>"
      ]
     },
     "metadata": {},
     "output_type": "display_data"
    }
   ],
   "source": [
    "fig = plt.imshow(x_new[0], cmap='binary')"
   ]
  },
  {
   "cell_type": "markdown",
   "id": "85238e53-d9e1-4889-8e76-a7cc8f01a100",
   "metadata": {},
   "source": [
    "### Conclusion\n",
    "\n",
    "As you can see the implemenation of `sequential-api` is although easy and straight forward, it cannont be used to build complex models. For this purpose keras offers `functional-api`."
   ]
  },
  {
   "cell_type": "code",
   "execution_count": null,
   "id": "28bdc25c-ed17-4be4-99ba-43fcac668844",
   "metadata": {},
   "outputs": [],
   "source": []
  }
 ],
 "metadata": {
  "kernelspec": {
   "display_name": "Python 3 (ipykernel)",
   "language": "python",
   "name": "python3"
  },
  "language_info": {
   "codemirror_mode": {
    "name": "ipython",
    "version": 3
   },
   "file_extension": ".py",
   "mimetype": "text/x-python",
   "name": "python",
   "nbconvert_exporter": "python",
   "pygments_lexer": "ipython3",
   "version": "3.10.11"
  }
 },
 "nbformat": 4,
 "nbformat_minor": 5
}
